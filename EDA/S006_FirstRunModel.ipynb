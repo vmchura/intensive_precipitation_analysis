{
 "cells": [
  {
   "metadata": {
    "collapsed": true
   },
   "cell_type": "code",
   "source": [
    "from Classifier import Classifier\n",
    "import numpy as np\n",
    "import pandas as pd\n",
    "from dotenv import load_dotenv\n",
    "import os\n",
    "from matplotlib import pyplot as plt\n",
    "import sqlalchemy as sa\n",
    "import seaborn as sns\n",
    "\n",
    "color_palette = sns.color_palette()"
   ],
   "id": "c536e57b8f45b3b8",
   "outputs": [],
   "execution_count": null
  },
  {
   "metadata": {},
   "cell_type": "code",
   "source": [
    "load_dotenv()\n",
    "engine = sa.create_engine(os.getenv(\"EL_NINO_DB_URL\"))"
   ],
   "id": "9d64947eb6675bcc",
   "outputs": [],
   "execution_count": null
  },
  {
   "metadata": {},
   "cell_type": "code",
   "source": [
    "target_precipitation_df = pd.read_sql('SELECT * FROM target_precipitation;', engine)\n",
    "target_precipitation_df['date'] = pd.to_datetime(target_precipitation_df['calendar_date'])\n",
    "\n",
    "sst_weekly_df = pd.read_sql('SELECT * FROM sst_weekly;', engine)\n",
    "sst_weekly_df['event_calendar_date'] = pd.to_datetime(sst_weekly_df['event_calendar_date'])\n",
    "sst_weekly_df['yearmonth'] = sst_weekly_df['event_calendar_date'].dt.year.astype(str) + sst_weekly_df['event_calendar_date'].dt.month.astype(str).str.zfill(2)\n",
    "\n",
    "equatorial_average_temperature_monthly_df = pd.read_sql('SELECT * FROM equatorial_average_temperature_monthly;', engine)\n",
    "equatorial_average_temperature_monthly_df['event_calendar_date'] = pd.to_datetime(equatorial_average_temperature_monthly_df['event_calendar_date'])\n",
    "\n",
    "oni_monthly_df = pd.read_sql('SELECT * FROM oni_monthly;', engine)\n",
    "oni_monthly_df['event_calendar_date'] = pd.to_datetime(oni_monthly_df['event_calendar_date'])"
   ],
   "id": "87894a5c5e44c5ca",
   "outputs": [],
   "execution_count": null
  },
  {
   "metadata": {},
   "cell_type": "code",
   "source": "monthly_df = oni_monthly_df.merge(equatorial_average_temperature_monthly_df, how='outer', on='event_calendar_date')",
   "id": "a063c41a9f5742d",
   "outputs": [],
   "execution_count": null
  },
  {
   "metadata": {},
   "cell_type": "code",
   "source": "monthly_df['yearmonth'] = monthly_df['event_calendar_date'].dt.year.astype(str) + monthly_df['event_calendar_date'].dt.month.astype(str).str.zfill(2)",
   "id": "2201a330d3ee13bb",
   "outputs": [],
   "execution_count": null
  },
  {
   "metadata": {},
   "cell_type": "code",
   "source": "X_all = sst_weekly_df.merge(monthly_df, how='outer', left_index=False, right_index=False, on='yearmonth')",
   "id": "c5dc521868ca9036",
   "outputs": [],
   "execution_count": null
  },
  {
   "metadata": {},
   "cell_type": "code",
   "source": "X_all['date'] = X_all['event_calendar_date_x'].combine_first(X_all['event_calendar_date_y'])",
   "id": "95844c7e7d8fe380",
   "outputs": [],
   "execution_count": null
  },
  {
   "metadata": {},
   "cell_type": "code",
   "source": [
    "dataset = target_precipitation_df.merge(X_all, how='inner', left_index=False, right_index=False, on='date')\n",
    "dataset.drop(['event_calendar_date_x', 'event_calendar_date_y', 'yearmonth'], inplace=True, axis=1)\n",
    "dataset_clean = dataset.dropna(how='any')"
   ],
   "id": "c9ca0056b1f91c8d",
   "outputs": [],
   "execution_count": null
  },
  {
   "metadata": {},
   "cell_type": "code",
   "source": "Classifier.classifier(dataset_clean,\"target_high_precipitation\")",
   "id": "3bd5a15eb490174f",
   "outputs": [],
   "execution_count": null
  },
  {
   "metadata": {},
   "cell_type": "code",
   "source": "",
   "id": "7cc9c283332ccdc9",
   "outputs": [],
   "execution_count": null
  }
 ],
 "metadata": {
  "kernelspec": {
   "display_name": "Python 3",
   "language": "python",
   "name": "python3"
  },
  "language_info": {
   "codemirror_mode": {
    "name": "ipython",
    "version": 2
   },
   "file_extension": ".py",
   "mimetype": "text/x-python",
   "name": "python",
   "nbconvert_exporter": "python",
   "pygments_lexer": "ipython2",
   "version": "2.7.6"
  }
 },
 "nbformat": 4,
 "nbformat_minor": 5
}
