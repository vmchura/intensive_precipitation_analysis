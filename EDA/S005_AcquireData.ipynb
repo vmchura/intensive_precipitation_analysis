{
 "cells": [
  {
   "metadata": {},
   "cell_type": "code",
   "source": [
    "from datetime import date\n",
    "import requests\n",
    "import pandas as pd\n",
    "from dotenv import load_dotenv\n",
    "import os\n",
    "import sqlite3\n",
    "import urllib3\n",
    "from bs4 import BeautifulSoup\n",
    "import re"
   ],
   "id": "e89b0a98fb719c7b",
   "outputs": [],
   "execution_count": null
  },
  {
   "metadata": {},
   "cell_type": "code",
   "source": "load_dotenv()",
   "id": "2b1b7fc2a95c8bad",
   "outputs": [],
   "execution_count": null
  },
  {
   "metadata": {},
   "cell_type": "code",
   "source": "connection = sqlite3.connect(os.getenv(\"EL_NINO_DB_URL\"))",
   "id": "ee36be86dc7e898a",
   "outputs": [],
   "execution_count": null
  },
  {
   "metadata": {},
   "cell_type": "code",
   "source": [
    "url_weekly_sst = \"https://www.cpc.ncep.noaa.gov/data/indices/wksst9120.for\"\n",
    "request_weekly_sst = requests.get(url_weekly_sst)"
   ],
   "id": "e3ecf84e614e85c2",
   "outputs": [],
   "execution_count": null
  },
  {
   "metadata": {},
   "cell_type": "code",
   "source": "lines_weekly_sst = request_weekly_sst.text.splitlines()",
   "id": "61d8daa3a5367739",
   "outputs": [],
   "execution_count": null
  },
  {
   "metadata": {},
   "cell_type": "code",
   "source": [
    "def parse_weekly_sst_data_line(line: str) -> dict:    \n",
    "    line_trimmed = line.strip()\n",
    "    return {\n",
    "        'event_calendar_date': pd.to_datetime(line_trimmed[:9], format='%d%b%Y'),\n",
    "        'nino12_sst': float(line_trimmed[14:18]),\n",
    "        'nino12_var': float(line_trimmed[18:22]),\n",
    "        'nino3_sst': float(line_trimmed[27:31]),\n",
    "        'nino3_var': float(line_trimmed[31:35]),\n",
    "        'nino34_sst': float(line_trimmed[40:44]),\n",
    "        'nino34_var': float(line_trimmed[44:48]),\n",
    "        'nino4_sst': float(line_trimmed[53:57]),\n",
    "        'nino4_var': float(line_trimmed[57:61]),\n",
    "    }"
   ],
   "id": "b08e739ca2fde442",
   "outputs": [],
   "execution_count": null
  },
  {
   "metadata": {},
   "cell_type": "code",
   "source": "weekly_sst_df = pd.DataFrame([parse_weekly_sst_data_line(line) for line in lines_weekly_sst[4:]])",
   "id": "f56700ba5d1078ca",
   "outputs": [],
   "execution_count": null
  },
  {
   "metadata": {},
   "cell_type": "code",
   "source": "weekly_sst_df.to_sql('sst_weekly', con=connection, if_exists='append', index=False)\n",
   "id": "a286f20b99855c09",
   "outputs": [],
   "execution_count": null
  },
  {
   "metadata": {},
   "cell_type": "code",
   "source": [
    "url_eq_temp_month =  'https://www.cpc.ncep.noaa.gov/products/analysis_monitoring/ocean/index/heat_content_index.txt'\n",
    "eq_temp_month_request = requests.get(url_eq_temp_month)"
   ],
   "id": "3f39d39b0d6a78f",
   "outputs": [],
   "execution_count": null
  },
  {
   "metadata": {},
   "cell_type": "code",
   "source": "lines_eq_temp_month = eq_temp_month_request.text.splitlines()\n",
   "id": "68c07c3d47e0ce1a",
   "outputs": [],
   "execution_count": null
  },
  {
   "metadata": {},
   "cell_type": "code",
   "source": "lines_eq_temp_month[:5]",
   "id": "71b790538d2ef37d",
   "outputs": [],
   "execution_count": null
  },
  {
   "metadata": {},
   "cell_type": "code",
   "source": [
    "def parse_monthly_equatorial_temperature_average(line: str) -> dict:\n",
    "    tokens = line.strip().split()\n",
    "    return {\n",
    "        'event_calendar_date': date(int(tokens[0]), int(tokens[1]), 1),\n",
    "        'e130_w80': float(tokens[2]),\n",
    "        'e160_w80': float(tokens[3]),\n",
    "        'w180_w100': float(tokens[4]),\n",
    "    }"
   ],
   "id": "f37b620d27f0759a",
   "outputs": [],
   "execution_count": null
  },
  {
   "metadata": {},
   "cell_type": "code",
   "source": "eq_temp_month_df = pd.DataFrame([parse_monthly_equatorial_temperature_average(line) for line in lines_eq_temp_month[2:]])",
   "id": "df0a2d9934f607e8",
   "outputs": [],
   "execution_count": null
  },
  {
   "metadata": {},
   "cell_type": "code",
   "source": "eq_temp_month_df.to_sql('equatorial_average_temperature_monthly', con=connection, if_exists='append', index=False)",
   "id": "413c283e25f94f9c",
   "outputs": [],
   "execution_count": null
  },
  {
   "metadata": {},
   "cell_type": "code",
   "source": [
    "url_monthly_oni = 'https://www.cpc.ncep.noaa.gov/data/indices/oni.ascii.txt'\n",
    "monthly_oni_request = requests.get(url_monthly_oni)\n",
    "lines_monthly_oni = monthly_oni_request.text.splitlines()"
   ],
   "id": "99f4dc02c05702ee",
   "outputs": [],
   "execution_count": null
  },
  {
   "metadata": {},
   "cell_type": "code",
   "source": [
    "def parse_monthly_ony(line: str) -> dict:\n",
    "    month_dictionary = {'DJF': 1,\n",
    "                        'JFM': 2,\n",
    "                        'FMA': 3,\n",
    "                        'MAM': 4,\n",
    "                        'AMJ': 5,\n",
    "                        'MJJ': 6,\n",
    "                        'JJA': 7,\n",
    "                        'JAS': 8,\n",
    "                        'ASO': 9,\n",
    "                        'SON': 10,\n",
    "                        'OND': 11,\n",
    "                        'NDJ': 12}\n",
    "\n",
    "\n",
    "    tokens = line.strip().split()\n",
    "    return {\n",
    "        'event_calendar_date': date(int(tokens[1]), month_dictionary[tokens[0]], 1),\n",
    "        'total_oni': float(tokens[2]),\n",
    "        'anomaly_oni': float(tokens[3])\n",
    "    }"
   ],
   "id": "7361ac5c66f898dd",
   "outputs": [],
   "execution_count": null
  },
  {
   "metadata": {},
   "cell_type": "code",
   "source": "monthly_oni_df = pd.DataFrame([parse_monthly_ony(line) for line in lines_monthly_oni[1:]])\n",
   "id": "300c45e542c48a04",
   "outputs": [],
   "execution_count": null
  },
  {
   "metadata": {},
   "cell_type": "code",
   "source": "monthly_oni_df.to_sql('oni_monthly', con=connection, if_exists='append', index=False)\n",
   "id": "d6ace6ea2c1b4d51",
   "outputs": [],
   "execution_count": null
  },
  {
   "metadata": {},
   "cell_type": "code",
   "source": [
    "http = urllib3.PoolManager()\n",
    "url = 'https://psl.noaa.gov/enso/past_events.html'\n",
    "response = http.request('GET', url)\n",
    "soup = BeautifulSoup(response.data)\n",
    "\n",
    "categories = soup.select('div.text-center.col-md-4.col-sm-4.col-xs-4')\n",
    "\n",
    "years_categories = []\n",
    "for k in categories:\n",
    "    tokens = [token for token in re.split('[\\t><br/\\n]', str(k)) if (len(token) == 4 or len(token) == 9) and all([ch.isdigit() or ch=='-' for ch in token])]\n",
    "    extended_tokens = [[int(token)] if len(token) == 4 else range(int(token[:4]),int(token[5:]) + 1) for token in tokens]\n",
    "    years = [year for list_years in extended_tokens for year in list_years]\n",
    "\n",
    "    tag = k.find('h4')\n",
    "    category = None\n",
    "    if tag.text == \"El Niño\":\n",
    "        category ='elnino'\n",
    "    elif tag.text == \"Neutral\":\n",
    "        category ='neutral'\n",
    "    elif tag.text == \"La Niña\":\n",
    "        category ='lanina'\n",
    "        \n",
    "    for year in years:\n",
    "        years_categories.append({'year_id': year, 'year_enso_type': category})"
   ],
   "id": "763edefe029bc43a",
   "outputs": [],
   "execution_count": null
  },
  {
   "metadata": {},
   "cell_type": "code",
   "source": [
    "past_enso_events_pd = pd.DataFrame(years_categories)\n",
    "past_enso_events_pd.to_sql('enso_past_events', con=connection, if_exists='append', index=False)\n",
    "\n"
   ],
   "id": "249ede6f9678f940",
   "outputs": [],
   "execution_count": null
  },
  {
   "metadata": {},
   "cell_type": "code",
   "source": "connection.close()",
   "id": "2372cb5431103df9",
   "outputs": [],
   "execution_count": null
  },
  {
   "metadata": {},
   "cell_type": "code",
   "source": "",
   "id": "e006b9db887239ae",
   "outputs": [],
   "execution_count": null
  }
 ],
 "metadata": {
  "kernelspec": {
   "display_name": "Python 3",
   "language": "python",
   "name": "python3"
  },
  "language_info": {
   "codemirror_mode": {
    "name": "ipython",
    "version": 2
   },
   "file_extension": ".py",
   "mimetype": "text/x-python",
   "name": "python",
   "nbconvert_exporter": "python",
   "pygments_lexer": "ipython2",
   "version": "2.7.6"
  }
 },
 "nbformat": 4,
 "nbformat_minor": 5
}
