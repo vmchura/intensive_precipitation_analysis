{
 "cells": [
  {
   "cell_type": "code",
   "id": "initial_id",
   "metadata": {
    "collapsed": true
   },
   "source": [
    "import numpy as np\n",
    "import pandas as pd\n",
    "from dotenv import load_dotenv\n",
    "import os\n",
    "from matplotlib import pyplot as plt\n",
    "import sqlite3\n",
    "import seaborn as sns\n",
    "import matplotlib.cm as cm\n",
    "import matplotlib.colors as mcolors\n",
    "from matplotlib import colormaps\n",
    "color_palette = sns.color_palette()\n",
    "palette = plt.get_cmap(\"plasma\")\n",
    "palette\n"
   ],
   "outputs": [],
   "execution_count": null
  },
  {
   "metadata": {},
   "cell_type": "code",
   "source": "",
   "id": "16137f44560cbb0e",
   "outputs": [],
   "execution_count": null
  },
  {
   "metadata": {},
   "cell_type": "code",
   "source": [
    "load_dotenv()\n",
    "connection = sqlite3.connect(os.getenv(\"EL_NINO_DB_URL\"))"
   ],
   "id": "108ea3db2db5aa4",
   "outputs": [],
   "execution_count": null
  },
  {
   "metadata": {},
   "cell_type": "code",
   "source": [
    "target_precipitation_df = pd.read_sql('SELECT * FROM master_precipitation;', con=connection)\n",
    "target_precipitation_df['date'] = pd.to_datetime(target_precipitation_df['event_calendar_date'])"
   ],
   "id": "f5b1cef8708145ca",
   "outputs": [],
   "execution_count": null
  },
  {
   "metadata": {},
   "cell_type": "code",
   "source": "target_precipitation_df.dtypes",
   "id": "33b8826d8d876fb1",
   "outputs": [],
   "execution_count": null
  },
  {
   "metadata": {},
   "cell_type": "code",
   "source": "connection.close()",
   "id": "84629149e89b92d4",
   "outputs": [],
   "execution_count": null
  },
  {
   "metadata": {},
   "cell_type": "code",
   "source": [
    "target_precipitation_df['year'] = target_precipitation_df['date'].dt.year\n",
    "target_precipitation_df['day_of_year'] = target_precipitation_df['date'].dt.dayofyear\n",
    "target_precipitation_df['window_rolling_28_days'] = target_precipitation_df['precipitation_number'].rolling(21, center=True).sum()\n"
   ],
   "id": "e6d2f37593546392",
   "outputs": [],
   "execution_count": null
  },
  {
   "metadata": {},
   "cell_type": "code",
   "source": "norm = mcolors.Normalize(vmin=2011, vmax=2020)",
   "id": "da33e6f93135e0c0",
   "outputs": [],
   "execution_count": null
  },
  {
   "metadata": {},
   "cell_type": "code",
   "source": [
    "# Set up the plot\n",
    "plt.figure(figsize=(10, 6))\n",
    "# Group by year and plot each year's data\n",
    "for year, group in target_precipitation_df.groupby('year'):\n",
    "    if year in [2011, 2012, 2013, 2014, 2015, 2016, 2017]:\n",
    "        plt.plot(group['day_of_year'], group['precipitation_number'], label=year, color=palette(norm(year)))\n",
    "        plt.fill_between(\n",
    "            group['day_of_year'],\n",
    "            group['precipitation_number'],\n",
    "            color=palette(norm(year)),\n",
    "            alpha=0.2  # Adjust transparency here\n",
    "        )\n",
    "# Customize the plot\n",
    "plt.xlabel(\"Day of Year\")\n",
    "plt.ylabel(\"Value\")\n",
    "plt.title(\"Time Series: Curves for Each Year\")\n",
    "plt.grid(True)\n",
    "plt.legend(title=\"Year\", bbox_to_anchor=(1.05, 1), loc='upper left')  # Move legend outside\n",
    "\n",
    "# Show the plot\n",
    "plt.show()"
   ],
   "id": "8f0464c1660f117c",
   "outputs": [],
   "execution_count": null
  },
  {
   "metadata": {},
   "cell_type": "code",
   "source": [
    "\n",
    "# Set up the plot\n",
    "plt.figure(figsize=(10, 6))\n",
    "# Group by year and plot each year's data\n",
    "for year, group in target_precipitation_df.groupby('year'):\n",
    "    if year in [2011, 2012, 2013, 2014, 2015, 2016, 2017]:\n",
    "        plt.plot(group['day_of_year'], group['window_rolling_28_days'], label=year, color=palette(norm(year)))\n",
    "        plt.fill_between(\n",
    "            group['day_of_year'],\n",
    "            group['window_rolling_28_days'],\n",
    "            color=palette(norm(year)),\n",
    "            alpha=0.2  # Adjust transparency here\n",
    "        )\n",
    "# Customize the plot\n",
    "plt.xlabel(\"Day of Year\")\n",
    "plt.ylabel(\"Value\")\n",
    "plt.title(\"Time Series: Curves for Each Year\")\n",
    "plt.grid(True)\n",
    "plt.legend(title=\"Year\", bbox_to_anchor=(1.05, 1), loc='upper left')  # Move legend outside\n",
    "\n",
    "# Show the plot\n",
    "plt.show()"
   ],
   "id": "1e1e6247ba5f4525",
   "outputs": [],
   "execution_count": null
  },
  {
   "metadata": {},
   "cell_type": "code",
   "source": [
    "\n",
    "# Set up the plot\n",
    "plt.figure(figsize=(10, 6))\n",
    "# Group by year and plot each year's data\n",
    "for year, group in target_precipitation_df.groupby('year'):\n",
    "    if year in [2017]:\n",
    "        plt.plot(group['day_of_year'], group['precipitation_number'], label=year, color=color_palette[(year + 4)%10])\n",
    "        plt.fill_between(\n",
    "            group['day_of_year'],\n",
    "            group['precipitation_number'],\n",
    "            color=color_palette[(year + 4)%10],\n",
    "            alpha=0.2  # Adjust transparency here\n",
    "        )\n",
    "# Customize the plot\n",
    "plt.xlabel(\"Day of Year\")\n",
    "plt.ylabel(\"Value\")\n",
    "plt.title(\"Time Series: Curves for Each Year\")\n",
    "plt.grid(True)\n",
    "plt.legend(title=\"Year\", bbox_to_anchor=(1.05, 1), loc='upper left')  # Move legend outside\n",
    "# Show the plot\n",
    "plt.show()"
   ],
   "id": "10c5ab1cd0744a28",
   "outputs": [],
   "execution_count": null
  },
  {
   "metadata": {},
   "cell_type": "code",
   "source": "color_palette",
   "id": "775e51307f57f67b",
   "outputs": [],
   "execution_count": null
  },
  {
   "metadata": {},
   "cell_type": "code",
   "source": "",
   "id": "8db2a94a11a346fe",
   "outputs": [],
   "execution_count": null
  }
 ],
 "metadata": {
  "kernelspec": {
   "display_name": "Python 3",
   "language": "python",
   "name": "python3"
  },
  "language_info": {
   "codemirror_mode": {
    "name": "ipython",
    "version": 2
   },
   "file_extension": ".py",
   "mimetype": "text/x-python",
   "name": "python",
   "nbconvert_exporter": "python",
   "pygments_lexer": "ipython2",
   "version": "2.7.6"
  }
 },
 "nbformat": 4,
 "nbformat_minor": 5
}
