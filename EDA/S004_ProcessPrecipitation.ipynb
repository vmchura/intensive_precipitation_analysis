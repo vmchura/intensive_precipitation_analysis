{
 "cells": [
  {
   "cell_type": "code",
   "id": "initial_id",
   "metadata": {
    "collapsed": true
   },
   "source": [
    "import numpy as np\n",
    "import pandas as pd\n",
    "from dotenv import load_dotenv\n",
    "import os\n",
    "from matplotlib import pyplot as plt\n",
    "import sqlalchemy as sa\n",
    "import seaborn as sns\n",
    "import datetime\n",
    "color_palette = sns.color_palette()"
   ],
   "outputs": [],
   "execution_count": null
  },
  {
   "metadata": {},
   "cell_type": "code",
   "source": [
    "load_dotenv()\n",
    "engine = sa.create_engine(os.getenv(\"EL_NINO_DB_URL\"))\n",
    "output_figures_path = os.getenv(\"FIGURE_OUTPUT\")"
   ],
   "id": "8fea72aea2f96607",
   "outputs": [],
   "execution_count": null
  },
  {
   "metadata": {},
   "cell_type": "code",
   "source": "raw_precipitation_df = pd.read_sql('SELECT * FROM raw_precipitation;', engine)",
   "id": "8c8a5ac568bf979c",
   "outputs": [],
   "execution_count": null
  },
  {
   "metadata": {},
   "cell_type": "code",
   "source": "raw_precipitation_df.set_index('event_calendar_date', inplace=True)",
   "id": "e52a169f87eb4f2b",
   "outputs": [],
   "execution_count": null
  },
  {
   "metadata": {},
   "cell_type": "code",
   "source": [
    "fig, ax = plt.subplots(figsize=(20, 5))\n",
    "raw_precipitation_df[raw_precipitation_df['source_id'] == 'SenamhiLaEsperanzaStation'].plot(ax=ax, c=color_palette[0])\n",
    "ax.legend(['Senamhi LaEsperanza Station'])\n",
    "leg = ax.get_legend()\n",
    "leg.legend_handles[0].set_color(color_palette[0])\n",
    "ax.set_ylim([-100, 200])\n",
    "ax.set_xlim([datetime.date(1960,1,1), datetime.date(2020,12,31)])\n",
    "plt.show()\n",
    "fig.savefig(f'{output_figures_path}/f04_01_original_data.png')   # save the figure to file\n",
    "\n"
   ],
   "id": "c5e1e0bf7865308b",
   "outputs": [],
   "execution_count": null
  },
  {
   "metadata": {},
   "cell_type": "code",
   "source": [
    "fig, ax = plt.subplots(figsize=(20, 5))\n",
    "raw_precipitation_df[raw_precipitation_df['source_id'] == 'ServicioNacionalMeteorologiaHidrologa'].plot(ax=ax, c=color_palette[2])\n",
    "raw_precipitation_df[raw_precipitation_df['source_id'] == 'SenamhiMallaresStation'].plot(ax=ax, c=color_palette[1])\n",
    "raw_precipitation_df[raw_precipitation_df['source_id'] == 'SenamhiPanangaStation'].plot(ax=ax, c=color_palette[4])\n",
    "raw_precipitation_df[raw_precipitation_df['source_id'] == 'SenamhiLaEsperanzaStation'].plot(ax=ax, c=color_palette[0])\n",
    "ax.legend(['Servicio Nacional de Meteorologia e Hidrologia',\n",
    "           'Senamhi Mallares Station',\n",
    "           'Senamhi Pananga Station',\n",
    "           'Senamhi LaEsperanza Station'])\n",
    "leg = ax.get_legend()\n",
    "leg.legend_handles[0].set_color(color_palette[2])\n",
    "leg.legend_handles[1].set_color(color_palette[1])\n",
    "leg.legend_handles[2].set_color(color_palette[4])\n",
    "leg.legend_handles[3].set_color(color_palette[0])\n",
    "ax.set_ylim([-100, 200])\n",
    "ax.set_xlim([datetime.date(1960,1,1), datetime.date(2020,12,31)])\n",
    "plt.show()\n",
    "fig.savefig(f'{output_figures_path}/f04_02_multiple_data.png')   # save the figure to file\n",
    "\n"
   ],
   "id": "707df4a367824ff",
   "outputs": [],
   "execution_count": null
  },
  {
   "metadata": {},
   "cell_type": "code",
   "source": [
    "raw_precipitation_df['precipitation_number_nan'] = np.where(raw_precipitation_df['precipitation_number'] < 0.0, np.nan, raw_precipitation_df['precipitation_number'])\n",
    "target_df = raw_precipitation_df[raw_precipitation_df['source_id'] == 'SenamhiLaEsperanzaStation'][['precipitation_number_nan']].copy()\n",
    "target_df.rename(columns = {\"precipitation_number_nan\": \"precipitation_number_target\"}, inplace=True)\n",
    "hourly_df = raw_precipitation_df[raw_precipitation_df['source_id'] == 'ServicioNacionalMeteorologiaHidrologa'][['precipitation_number_nan']].copy()\n",
    "hourly_df.rename(columns = {\"precipitation_number_nan\": \"precipitation_number_hourly\"}, inplace=True)\n",
    "station2_df = raw_precipitation_df[raw_precipitation_df['source_id'] == 'SenamhiMallaresStation'][['precipitation_number_nan']].copy()\n",
    "station2_df.rename(columns = {\"precipitation_number_nan\": \"precipitation_number_station_2\"}, inplace=True)\n",
    "station3_df = raw_precipitation_df[raw_precipitation_df['source_id'] == 'SenamhiPanangaStation'][['precipitation_number_nan']].copy()\n",
    "station3_df.rename(columns = {\"precipitation_number_nan\": \"precipitation_number_station_3\"}, inplace=True)\n",
    "\n",
    "result_df = target_df.merge(hourly_df, left_index=True, right_index=True, how='outer'). \\\n",
    "    merge(station2_df, left_index=True, right_index=True, how='left'). \\\n",
    "    merge(station3_df, left_index=True, right_index=True, how='left')\n"
   ],
   "id": "e6b9a9d769283bb",
   "outputs": [],
   "execution_count": null
  },
  {
   "metadata": {},
   "cell_type": "code",
   "source": [
    "result_df['fixed_target_precipitation'] = np.where(result_df['precipitation_number_target'].notnull(), result_df['precipitation_number_target'],\n",
    "                                    np.where(result_df['precipitation_number_hourly'].notnull(), result_df['precipitation_number_hourly'],\n",
    "                                    np.where(result_df['precipitation_number_station_2'].isnull(), result_df['precipitation_number_station_3'],\n",
    "                                    np.where(result_df['precipitation_number_station_3'].isnull(), result_df['precipitation_number_station_2'],\n",
    "                                             np.maximum(result_df['precipitation_number_station_2'], result_df['precipitation_number_station_3'])))))"
   ],
   "id": "25d200159af5e52a",
   "outputs": [],
   "execution_count": null
  },
  {
   "metadata": {},
   "cell_type": "code",
   "source": [
    "fig, ax = plt.subplots(figsize=(20, 5))\n",
    "result_df[['fixed_target_precipitation']].plot(ax=ax, color=color_palette[0])\n",
    "ax.legend(['Target Precipitation'])\n",
    "leg = ax.get_legend()\n",
    "leg.legend_handles[0].set_color(color_palette[0])\n",
    "ax.set_ylim([-100, 200])\n",
    "ax.set_xlim([datetime.date(1960,1,1), datetime.date(2020,12,31)])\n",
    "plt.show()\n",
    "fig.savefig(f'{output_figures_path}/f04_03_target_precipitation.png')\n",
    "\n"
   ],
   "id": "87e18e0b9643fa1c",
   "outputs": [],
   "execution_count": null
  },
  {
   "metadata": {},
   "cell_type": "code",
   "source": [
    "master_precipitation_df = result_df.rename(\n",
    "    columns={\"fixed_target_precipitation\": \"precipitation_number\"})[['precipitation_number']]"
   ],
   "id": "87743b655ef0dd9b",
   "outputs": [],
   "execution_count": null
  },
  {
   "metadata": {},
   "cell_type": "code",
   "source": "master_precipitation_df.head()",
   "id": "dffe6445419e611a",
   "outputs": [],
   "execution_count": null
  },
  {
   "metadata": {},
   "cell_type": "code",
   "source": "master_precipitation_df.to_sql('master_precipitation', engine, if_exists='append')",
   "id": "1ec98a0d7fa8ffb9",
   "outputs": [],
   "execution_count": null
  },
  {
   "metadata": {},
   "cell_type": "code",
   "source": [
    "read_master_precipitation_df = pd.read_sql('SELECT * FROM master_precipitation;', engine)\n",
    "read_master_precipitation_df.set_index('event_calendar_date', inplace=True)"
   ],
   "id": "67a10923f555d167",
   "outputs": [],
   "execution_count": null
  },
  {
   "metadata": {},
   "cell_type": "code",
   "source": [
    "fig, ax = plt.subplots(figsize=(20, 5))\n",
    "read_master_precipitation_df.plot(ax=ax, color=color_palette[0])\n",
    "ax.legend(['Read Target Precipitation'])\n",
    "leg = ax.get_legend()\n",
    "leg.legend_handles[0].set_color(color_palette[0])\n",
    "ax.set_ylim([-100, 200])\n",
    "ax.set_xlim([datetime.date(1960,1,1), datetime.date(2020,12,31)])\n",
    "plt.show()\n",
    "\n",
    "\n"
   ],
   "id": "d4240468ccd9d04e",
   "outputs": [],
   "execution_count": null
  },
  {
   "metadata": {},
   "cell_type": "code",
   "source": "",
   "id": "f9aa21f929df00f7",
   "outputs": [],
   "execution_count": null
  }
 ],
 "metadata": {
  "kernelspec": {
   "display_name": "Python 3",
   "language": "python",
   "name": "python3"
  },
  "language_info": {
   "codemirror_mode": {
    "name": "ipython",
    "version": 2
   },
   "file_extension": ".py",
   "mimetype": "text/x-python",
   "name": "python",
   "nbconvert_exporter": "python",
   "pygments_lexer": "ipython2",
   "version": "2.7.6"
  }
 },
 "nbformat": 4,
 "nbformat_minor": 5
}
