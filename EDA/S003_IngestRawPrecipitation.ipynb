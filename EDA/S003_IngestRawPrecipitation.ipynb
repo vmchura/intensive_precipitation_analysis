{
 "cells": [
  {
   "cell_type": "code",
   "id": "initial_id",
   "metadata": {
    "collapsed": true
   },
   "source": [
    "from EDA import *\n",
    "from S001_CompareDataSets import *\n",
    "import pandas as pd\n",
    "from dotenv import load_dotenv\n",
    "import os\n",
    "import netCDF4\n",
    "from matplotlib import pyplot as plt\n",
    "import sqlalchemy as sa"
   ],
   "outputs": [],
   "execution_count": null
  },
  {
   "metadata": {},
   "cell_type": "code",
   "source": "load_dotenv()",
   "id": "d932f653931144e7",
   "outputs": [],
   "execution_count": null
  },
  {
   "metadata": {},
   "cell_type": "code",
   "source": "engine = sa.create_engine(os.getenv(\"EL_NINO_DB_URL\"))",
   "id": "a5653727a659cb3b",
   "outputs": [],
   "execution_count": null
  },
  {
   "metadata": {},
   "cell_type": "code",
   "source": [
    "for file_name, year in [('PISCOp_h_non-DBC_2015.nc', 2015),\n",
    "                        ('PISCOp_h_non-DBC_2016.nc', 2016),\n",
    "                        ('PISCOp_h_non-DBC_2017.nc', 2017),\n",
    "                        ('PISCOp_h_non-DBC_2018.nc', 2018),\n",
    "                        ('PISCOp_h_non-DBC_2019.nc', 2019),\n",
    "                        ('PISCOp_h_non-DBC_2020.nc', 2020)]:\n",
    "    \n",
    "    df = NetCDF4PrecipitationParser.parse(file_name, year)\n",
    "    df = df.rename(columns={\"date\": \"event_calendar_date\", \"daily_precipitation\": \"precipitation_number\"})\n",
    "    df['source_id'] = 'ServicioNacionalMeteorologiaHidrologa'\n",
    "    df.to_sql('raw_precipitation', engine, if_exists='append', index=False)"
   ],
   "id": "8722cc09e965398e",
   "outputs": [],
   "execution_count": null
  },
  {
   "metadata": {},
   "cell_type": "code",
   "source": [
    "station_df = SenamhiPrecipitationParser.parse('qc00000230.txt')\n",
    "station_df = station_df.rename(columns={\"date\": \"event_calendar_date\", \"daily_precipitation\": \"precipitation_number\"})\n",
    "station_df['source_id'] = 'SenamhiLaEsperanzaStation'\n",
    "station_df.to_sql('raw_precipitation', engine, if_exists='append', index=False)"
   ],
   "id": "b9a24cb4f82a18e7",
   "outputs": [],
   "execution_count": null
  },
  {
   "metadata": {},
   "cell_type": "code",
   "source": [
    "mallares_station_df = SenamhiPrecipitationParser.parse('qc00000208.txt')\n",
    "mallares_station_df = mallares_station_df.rename(columns={\"date\": \"event_calendar_date\", \"daily_precipitation\": \"precipitation_number\"})\n",
    "mallares_station_df['source_id'] = 'SenamhiMallaresStation'\n",
    "mallares_station_df.to_sql('raw_precipitation', engine, if_exists='append', index=False)"
   ],
   "id": "8116ab71ea141f88",
   "outputs": [],
   "execution_count": null
  },
  {
   "metadata": {},
   "cell_type": "code",
   "source": [
    "pananga_station_df = SenamhiPrecipitationParser.parse('qc00152101.txt')\n",
    "pananga_station_df = pananga_station_df.rename(columns={\"date\": \"event_calendar_date\", \"daily_precipitation\": \"precipitation_number\"})\n",
    "pananga_station_df['source_id'] = 'SenamhiPanangaStation'\n",
    "pananga_station_df.to_sql('raw_precipitation', engine, if_exists='append', index=False)"
   ],
   "id": "369b95334e402604",
   "outputs": [],
   "execution_count": null
  },
  {
   "metadata": {},
   "cell_type": "code",
   "source": "",
   "id": "396504e93814deed",
   "outputs": [],
   "execution_count": null
  }
 ],
 "metadata": {
  "kernelspec": {
   "display_name": "Python 3",
   "language": "python",
   "name": "python3"
  },
  "language_info": {
   "codemirror_mode": {
    "name": "ipython",
    "version": 2
   },
   "file_extension": ".py",
   "mimetype": "text/x-python",
   "name": "python",
   "nbconvert_exporter": "python",
   "pygments_lexer": "ipython2",
   "version": "2.7.6"
  }
 },
 "nbformat": 4,
 "nbformat_minor": 5
}
